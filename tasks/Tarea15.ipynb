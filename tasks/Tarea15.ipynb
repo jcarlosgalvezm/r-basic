{
 "cells": [
  {
   "cell_type": "code",
   "execution_count": 29,
   "metadata": {},
   "outputs": [],
   "source": [
    "import numpy as np\n",
    "import pandas as pd\n",
    "import scipy.stats as st"
   ]
  },
  {
   "cell_type": "markdown",
   "metadata": {},
   "source": [
    "<strong>1 .En una universidad, se sabe que el 25% de los alumnos realizan algún tipo de deporte. Se ha obtenido una muestra de 30 alumnos.\n",
    "\n",
    "a) Si llamamos X a la variable aleatoria que cuenta el número de alumnos que realizan algún tipo de deporte, ¿qué tipo de distribución sigue X?\n",
    "\n",
    "b) ¿Qué esperanza tiene X?\n",
    "\n",
    "c) ¿Y varianza?\n",
    "\n",
    "d) Calcula con R (o Python) la probabilidad de que más de 25 alumnos practiquen algún deporte.\n",
    "\n",
    "e) Calcula con R (o Python) la probabilidad de que exactamente 15 alumnos practiquen algún deporte.\n",
    "\n",
    "f) Calcula con R (o Python) la probabilidad de que de 10 alumnos o menos practiquen algún deporte.</strong>"
   ]
  },
  {
   "cell_type": "markdown",
   "metadata": {},
   "source": [
    "a) Si llamamos X a la variable aleatoria que cuenta el número de alumnos que realizan algún tipo de deporte, ¿qué tipo de distribución sigue X?\n",
    "\n",
    "$ n = 30$\n",
    "\n",
    "$p = \\frac{25}{100} = 0.25$"
   ]
  },
  {
   "cell_type": "code",
   "execution_count": 13,
   "metadata": {},
   "outputs": [],
   "source": [
    "n = 30\n",
    "p = 25 / 100"
   ]
  },
  {
   "cell_type": "code",
   "execution_count": 14,
   "metadata": {},
   "outputs": [
    {
     "name": "stdout",
     "output_type": "stream",
     "text": [
      "Sigue una distribución binomial B(30, 0.25)\n"
     ]
    }
   ],
   "source": [
    "print(f'Sigue una distribución binomial B({n}, {p})')"
   ]
  },
  {
   "cell_type": "markdown",
   "metadata": {},
   "source": [
    "b) ¿Qué esperanza tiene X?\n",
    "\n",
    "$ E(X) = np$"
   ]
  },
  {
   "cell_type": "code",
   "execution_count": 15,
   "metadata": {},
   "outputs": [
    {
     "name": "stdout",
     "output_type": "stream",
     "text": [
      "E = 7.5\n"
     ]
    }
   ],
   "source": [
    "E = n*p\n",
    "print(f'E = {E}')"
   ]
  },
  {
   "cell_type": "markdown",
   "metadata": {},
   "source": [
    "c) ¿Y varianza?\n",
    "\n",
    "$q = 1-p$\n",
    "\n",
    "$Var(X) = E\\cdot q=npq$"
   ]
  },
  {
   "cell_type": "code",
   "execution_count": 17,
   "metadata": {},
   "outputs": [],
   "source": [
    "var_X = E * (1-p)\n",
    "print(f'La varianza es {var_X}')"
   ]
  },
  {
   "cell_type": "markdown",
   "metadata": {},
   "source": [
    "d) Calcula con R (o Python) la probabilidad de que más de 25 alumnos practiquen algún deporte.\n",
    "\n",
    "$P(X > 25) = 1 - P(X < 25) $"
   ]
  },
  {
   "cell_type": "code",
   "execution_count": 31,
   "metadata": {},
   "outputs": [],
   "source": [
    "prob_g25 = round(1 - st.binom.cdf(25, n, p), 4)\n",
    "print(f'La probabilidad es {prob_g25}')"
   ]
  },
  {
   "cell_type": "markdown",
   "metadata": {},
   "source": [
    "e) Calcula con R (o Python) la probabilidad de que exactamente 15 alumnos practiquen algún deporte."
   ]
  },
  {
   "cell_type": "code",
   "execution_count": 39,
   "metadata": {},
   "outputs": [],
   "source": [
    "prob_15 = round(st.binom.pmf(15, n, p), 4)\n",
    "print(f'La probabilidad es {prob_15}')"
   ]
  },
  {
   "cell_type": "markdown",
   "metadata": {},
   "source": [
    "f) Calcula con R (o Python) la probabilidad de que de 10 alumnos o menos practiquen algún deporte."
   ]
  },
  {
   "cell_type": "code",
   "execution_count": 44,
   "metadata": {},
   "outputs": [
    {
     "data": {
      "text/plain": [
       "0.8943"
      ]
     },
     "execution_count": 44,
     "metadata": {},
     "output_type": "execute_result"
    }
   ],
   "source": [
    "prob_l10 = round(st.binom.cdf(10, n, p), 4)\n",
    "printf(f'La probabilidad es {prob_l10}')"
   ]
  },
  {
   "cell_type": "markdown",
   "metadata": {},
   "source": [
    "<strong>2. El número medio de accidentes de coche en la ciudad de Mahón en 2 meses es de 2 accidentes.\n",
    "\n",
    "a) ¿Qué distribución sigue la v.a. que cuenta el número de accidentes en 2 meses?\n",
    "\n",
    "b) Calcula la esperanza\n",
    "\n",
    "c) Calcula con R (o Python) la probabilidad de que no ocurra ningún accidente en 2 meses.</strong>"
   ]
  },
  {
   "cell_type": "markdown",
   "metadata": {},
   "source": [
    "a) ¿Qué distribución sigue la v.a. que cuenta el número de accidentes en 2 meses?\n",
    "\n",
    "Sigue una distribución Poisson donde $\\lambda = 2$ por lo tanto es una distribución $P(2)$."
   ]
  },
  {
   "cell_type": "markdown",
   "metadata": {},
   "source": [
    "b) Calcula la esperanza\n",
    "\n",
    "$E(X) = \\lambda = 2$"
   ]
  },
  {
   "cell_type": "markdown",
   "metadata": {},
   "source": [
    "c) Calcula con R (o Python) la probabilidad de que no ocurra ningún accidente en 2 meses."
   ]
  },
  {
   "cell_type": "code",
   "execution_count": 47,
   "metadata": {},
   "outputs": [
    {
     "name": "stdout",
     "output_type": "stream",
     "text": [
      "La probabilidad es 0.1353\n"
     ]
    }
   ],
   "source": [
    "prob = round(st.poisson.pmf(0, 2), 4)\n",
    "print(f'La probabilidad es {prob}')"
   ]
  },
  {
   "cell_type": "markdown",
   "metadata": {},
   "source": [
    "<strong>3. El 40% de un pueblo a las afueras de la ciudad de Pensilvania ve un concurso que dan por la tele. El concurso llama por teléfono a 15 personas del pueblo elegidas al azar. ¿De qué distribución se trata?</strong>"
   ]
  },
  {
   "cell_type": "markdown",
   "metadata": {},
   "source": [
    "Es una distribución Binomial B(15, 0.4)"
   ]
  },
  {
   "cell_type": "markdown",
   "metadata": {},
   "source": [
    "<strong> 4. En un bol muy grande tenemos, en total, 70 fresas, de entre las cuales 10 están podridas. Tomando un puñado de 20 fresas al azar y sin reemplazar ninguna de ellas, ¿qué distribución sigue la v.a. que cuenta el número de fresas podridas?\n",
    "\n",
    "Da también la esperanza y la varianza de esta variable aleatoria.</strong>"
   ]
  },
  {
   "cell_type": "markdown",
   "metadata": {},
   "source": [
    "Se trata de una distribución Hipergeométrica $H\\tilde{}N(N, M, n)$ donde $N = 10$ ; $M = 60$ y $n = 20$"
   ]
  },
  {
   "cell_type": "markdown",
   "metadata": {},
   "source": [
    "$ E(X) = \\frac{nM}{N+M}$"
   ]
  },
  {
   "cell_type": "code",
   "execution_count": 63,
   "metadata": {},
   "outputs": [],
   "source": [
    "N = 10\n",
    "M = 60\n",
    "n = 20\n",
    "E = round((n*M)/(N+M), 4)\n",
    "print(f'La esperanza es {E}')"
   ]
  },
  {
   "cell_type": "markdown",
   "metadata": {},
   "source": [
    "$ Var(X) = \\frac{nNM}{(N+M)^2}\\cdot\\frac{N+M-n}{N+M-1}$"
   ]
  },
  {
   "cell_type": "code",
   "execution_count": 81,
   "metadata": {},
   "outputs": [],
   "source": [
    "var_X = round(((n*N*M)/(N+M)**2) * ((N+M-n)/(N+M-1)), 4)\n",
    "print(f'La varianza es {var_X}')"
   ]
  },
  {
   "cell_type": "markdown",
   "metadata": {},
   "source": [
    "<strong> 5. Un test de matemáticas consta de 200 preguntas de verdadero o falso. Para una persona que respondiese al azar, ¿qué distribución seguiría la v.a. que cuenta el número de preguntas acertadas?\n",
    "\n",
    "Da también la esperanza y la varianza de esta variable aleatoria.</strong>"
   ]
  },
  {
   "cell_type": "markdown",
   "metadata": {},
   "source": [
    "Se trata de una distribución Binomial B(200, 0.5)\n",
    "\n",
    "$E(X) = np = 0.5 \\cdot 200$ "
   ]
  },
  {
   "cell_type": "code",
   "execution_count": 104,
   "metadata": {},
   "outputs": [
    {
     "name": "stdout",
     "output_type": "stream",
     "text": [
      "La esperanza es 100.0\n",
      "La varianza es 50.0\n"
     ]
    }
   ],
   "source": [
    "p = 0.5\n",
    "n = 200\n",
    "E = n*p\n",
    "print(f'La esperanza es {E}')\n",
    "q = 1 - p\n",
    "var_X = n*p*q\n",
    "print(f'La varianza es {var_X}')"
   ]
  },
  {
   "cell_type": "markdown",
   "metadata": {},
   "source": [
    "$q = 1-p$\n",
    "\n",
    "$Var(X) = npq = 200\\cdot0.5\\cdot(1-0.5)$"
   ]
  },
  {
   "cell_type": "markdown",
   "metadata": {},
   "source": [
    "<strong>6.Un test de matemáticas consta de 200 preguntas. Cada pregunta consta de 4 posibles respuestas con solo una correcta. Para una persona que respondiese al azar, ¿qué distribución seguiría la v.a. que cuenta el número de preguntas acertadas?\n",
    "\n",
    "Da también la esperanza y la varianza de esta variable aleatoria</strong>"
   ]
  },
  {
   "cell_type": "markdown",
   "metadata": {},
   "source": [
    "Una distribución Binomial B(200,0.25)\n",
    "\n",
    "$E(X) = 200\\cdot0.25$\n",
    "\n",
    "$Var(X) = 200\\cdot0.25\\cdot0.75$"
   ]
  },
  {
   "cell_type": "markdown",
   "metadata": {},
   "source": [
    "<strong>7. Un test de matemáticas consta de 200 preguntas de verdadero o falso. Para una persona que respondiese al azar y por orden, ¿qué distribución seguiría la v.a. que cuenta el número de preguntas respondidas hasta el primer acierto?\n",
    "\n",
    "Da también la esperanza y la varianza de esta variable aleatoria.</strong>"
   ]
  },
  {
   "cell_type": "markdown",
   "metadata": {},
   "source": [
    "Una distribución Geométrica Ge(0.5)\n",
    "\n",
    "$E(X) = 1/0.5$\n",
    "\n",
    "$Var(X) = 1/0.5$"
   ]
  },
  {
   "cell_type": "markdown",
   "metadata": {},
   "source": [
    "<strong>8. Para evitar ser arrestado al pasar el control de seguridad, un viajero ha colocado 7 pastillas de droga en una botella que contiene 14 píldoras de vitaminas, las cuales son muy similares a las otras. Si el policía de turno selecciona 4 pastillas aleatoriamente para analizarlas, ¿qué distribución sigue la v.a. que cuenta el número de pastillas de droga?</strong>"
   ]
  },
  {
   "cell_type": "markdown",
   "metadata": {},
   "source": [
    "Se trata de una distribución Hipergeométrica $X\\tilde{}H(7, 7, 14)$"
   ]
  },
  {
   "cell_type": "markdown",
   "metadata": {},
   "source": [
    "<strong>9.Un servicio dedicado a la reparación de aires acondicionados recibe de media 27 llamadas diarias. ¿Qué distribución sigue la v.a. que cuenta el número de llamadas diarias?</strong>"
   ]
  },
  {
   "cell_type": "markdown",
   "metadata": {},
   "source": [
    "Se trata de una distribución de Poisson Po(27)"
   ]
  },
  {
   "cell_type": "markdown",
   "metadata": {},
   "source": [
    "<strong>10. Se lanza 53 veces un dado. ¿Qué distribución sigue la v.a. que cuenta cuántas veces ha salido un número impar? ¿Y la v.a. que cuenta el número de veces que ha salido un número par? ¿Y la v.a. que cuenta las veces que hemos obtenido exactamente el número \"5\"?</strong>"
   ]
  },
  {
   "cell_type": "markdown",
   "metadata": {},
   "source": [
    "Distribución binomial\n",
    "\n",
    "B(53,0.5) (X impar)\n",
    "\n",
    "B(53, 0.5) (X par)\n",
    "\n",
    "B(53, 1/número_de_caras) (X = 5)"
   ]
  },
  {
   "cell_type": "markdown",
   "metadata": {},
   "source": [
    "<strong>11.El precio medio del litro de gasolina durante el próximo año se estima que puede oscilar entre 1.09€ y 2.53€. ¿De qué distribución de probabilidad se trata?\n",
    "\n",
    "Da la esperanza</strong>"
   ]
  },
  {
   "cell_type": "markdown",
   "metadata": {},
   "source": [
    "Se trata de una distribución Uniforme U(1.09, 2.53)\n",
    "\n",
    "$E(X)=\\frac{a+b}{2} = \\frac{1.09+2.53}{2}$"
   ]
  },
  {
   "cell_type": "code",
   "execution_count": 102,
   "metadata": {},
   "outputs": [
    {
     "name": "stdout",
     "output_type": "stream",
     "text": [
      "La esperanza es 1.81\n"
     ]
    }
   ],
   "source": [
    "a = 1.09\n",
    "b = 2.53\n",
    "E = (a+b)/2\n",
    "print(f'La esperanza es {E}')"
   ]
  },
  {
   "cell_type": "markdown",
   "metadata": {},
   "source": [
    "<strong>12. En una tienda del centro comercial, el tiempo medio de cola para poder pagar en caja es de 7 minutos. ¿De qué distribución de probabilidad se trata?\n",
    "\n",
    "Da la esperanza y varianza</strong>"
   ]
  },
  {
   "cell_type": "markdown",
   "metadata": {},
   "source": [
    "Se trata de una distribución Exponencial Exp(7)\n",
    "\n",
    "$E(x) = 1/7$\n",
    "\n",
    "$Var(X) = 1/49$"
   ]
  }
 ],
 "metadata": {
  "kernelspec": {
   "display_name": "Python 3",
   "language": "python",
   "name": "python3"
  },
  "language_info": {
   "codemirror_mode": {
    "name": "ipython",
    "version": 3
   },
   "file_extension": ".py",
   "mimetype": "text/x-python",
   "name": "python",
   "nbconvert_exporter": "python",
   "pygments_lexer": "ipython3",
   "version": "3.7.7"
  }
 },
 "nbformat": 4,
 "nbformat_minor": 4
}
