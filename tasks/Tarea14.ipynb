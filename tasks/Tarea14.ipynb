{
 "cells": [
  {
   "cell_type": "code",
   "execution_count": 35,
   "metadata": {},
   "outputs": [],
   "source": [
    "import numpy as np\n",
    "import pandas as pd\n",
    "import scipy.stats as st"
   ]
  },
  {
   "cell_type": "markdown",
   "metadata": {},
   "source": [
    "$Z = \\frac{x - \\mu}{\\sigma}$"
   ]
  },
  {
   "cell_type": "markdown",
   "metadata": {},
   "source": [
    "<strong>1- La cantidad de tiempo (en horas) utilizada para completar un producto determinado sigue una distribución N(10, 2) . Calculad la probabilidad de que se tarde:\n",
    "\n",
    "a) Menos de 6 horas\n",
    "\n",
    "b) Entre 7 y 13 horas\n",
    "\n",
    "Estandarizad y luego calculad la probabilidad requerida mediante las tablas y comprobad vuestro resultado en R (o Python)</strong>"
   ]
  },
  {
   "cell_type": "code",
   "execution_count": 108,
   "metadata": {},
   "outputs": [],
   "source": [
    "mu, sig = 10, 2"
   ]
  },
  {
   "cell_type": "markdown",
   "metadata": {},
   "source": [
    "a) Menos de 6 horas"
   ]
  },
  {
   "cell_type": "markdown",
   "metadata": {},
   "source": [
    "$P(x < 6) = P(Z = \\frac{6 - 10}{2}) = P(Z = -2) = 0.0228$"
   ]
  },
  {
   "cell_type": "code",
   "execution_count": 93,
   "metadata": {},
   "outputs": [
    {
     "data": {
      "text/plain": [
       "False"
      ]
     },
     "execution_count": 93,
     "metadata": {},
     "output_type": "execute_result"
    }
   ],
   "source": [
    "x_6 = round(st.norm.cdf(6, loc=mu, scale=sig), 4)\n",
    "x_6 == 0.0228"
   ]
  },
  {
   "cell_type": "markdown",
   "metadata": {},
   "source": [
    "b) Entre 7 y 13 horas"
   ]
  },
  {
   "cell_type": "markdown",
   "metadata": {},
   "source": [
    "$P(7 \\leq x <= 13) = P(x \\leq 13) - P(x \\geq 7) = P(Z \\leq \\frac{13-10}{2}) - P(Z \\geq \\frac{7-10}{2}) = P(Z = 1.5) - P(Z = -1.5) = 0.9332 - 0.0668 = 0.8664$"
   ]
  },
  {
   "cell_type": "code",
   "execution_count": 102,
   "metadata": {},
   "outputs": [
    {
     "data": {
      "text/plain": [
       "True"
      ]
     },
     "execution_count": 102,
     "metadata": {},
     "output_type": "execute_result"
    }
   ],
   "source": [
    "x_7 = st.norm.cdf(7, loc=mu, scale=sig)\n",
    "x_13 = st.norm.cdf(13,loc=mu,scale=sig)\n",
    "round(x_13 - x_7, 4) == 0.8664"
   ]
  },
  {
   "cell_type": "markdown",
   "metadata": {},
   "source": [
    "<strong>2. El valor (en millones) de las ventas anuales realizadas en la Discográfica \"Hasta quedarnos sin tímpanos\" sigue un modelo normal de media igual a 200 y desviación tíıpica igual a 40.\n",
    "\n",
    "a) Calcula la probabilidad de que el número de ventas sea exactamente igual a 200 (millones)\n",
    "\n",
    "b) Calcula la probabilidad de que el número de ventas sea mayor que 250 (millones)\n",
    "\n",
    "c) Calcula la probabilidad de que el número de ventas sea menor o igual que 100 (millones)\n",
    "\n",
    "Estandarizad y luego calculad la probabilidad requerida mediante las tablas y comprobad vuestro resultado en R (o Python)</strong>"
   ]
  },
  {
   "cell_type": "code",
   "execution_count": 83,
   "metadata": {},
   "outputs": [],
   "source": [
    "mu, sig = 200, 40"
   ]
  },
  {
   "cell_type": "markdown",
   "metadata": {},
   "source": [
    "a) Calcula la probabilidad de que el número de ventas sea exactamente igual a 200 (millones)"
   ]
  },
  {
   "cell_type": "markdown",
   "metadata": {},
   "source": [
    "$P(x=200) = P(x > 200) - P(x < 200) = 0.5 - 0.5 = 0$\n",
    "\n",
    "Esto es así porqué se trata de una variable continua"
   ]
  },
  {
   "cell_type": "markdown",
   "metadata": {},
   "source": [
    "b) Calcula la probabilidad de que el número de ventas sea mayor que 250 (millones)"
   ]
  },
  {
   "cell_type": "markdown",
   "metadata": {},
   "source": [
    "$P(x \\geq 250) = 1 - P(x \\geq 250) = 1 - P(Z = \\frac{250 - 200}{40}) = 1 - P(Z = 1.25)  = 1 - 0.8944 = 0.1056$"
   ]
  },
  {
   "cell_type": "code",
   "execution_count": 91,
   "metadata": {},
   "outputs": [
    {
     "data": {
      "text/plain": [
       "True"
      ]
     },
     "execution_count": 91,
     "metadata": {},
     "output_type": "execute_result"
    }
   ],
   "source": [
    "x_250 = st.norm.cdf(250, loc=mu, scale=sig)\n",
    "round(1 - x_250, 4) == 0.1056"
   ]
  },
  {
   "cell_type": "markdown",
   "metadata": {},
   "source": [
    "c) Calcula la probabilidad de que el número de ventas sea menor o igual que 100 (millones)"
   ]
  },
  {
   "cell_type": "markdown",
   "metadata": {},
   "source": [
    "$P(x \\leq 100) = P(Z = \\frac{100 - 200}{40}) = P(Z = -2.5) = 0.0062 $"
   ]
  },
  {
   "cell_type": "code",
   "execution_count": 106,
   "metadata": {},
   "outputs": [
    {
     "data": {
      "text/plain": [
       "False"
      ]
     },
     "execution_count": 106,
     "metadata": {},
     "output_type": "execute_result"
    }
   ],
   "source": [
    "round(st.norm.cdf(100, loc=mu, scale=sig), 4) == 0.0062"
   ]
  },
  {
   "cell_type": "markdown",
   "metadata": {},
   "source": [
    "<strong>3. Las puntuaciones obtenidas en un examen tipo test realizado a un grupo de opositores se distribuyen normalmente con media 50 y desviación típica 6.5. Calculad\n",
    "\n",
    "a) Probabilidad de tener una puntuación menor a 23 puntos.\n",
    "\n",
    "b) Probabilidad de tener entre 27.3 y 43.1 puntos\n",
    "\n",
    "c) Probabilidad de tener más de 62 puntos\n",
    "\n",
    "d) Probabilidad de tener 3.2 puntos o menos\n",
    "\n",
    "e) Hallad el número de puntos que se deben obtener para que la probabilidad de sacar menos de esa cantidad de puntos sea de 0.045\n",
    "\n",
    "f) Repetid el apartado anterior, pero esta vez para obtener una probabilidad de 0.45\n",
    "\n",
    "Estandarizad y luego calculad la probabilidad requerida mediante las tablas y comprobad vuestro resultado en R (o Python)\n",
    "</strong>"
   ]
  },
  {
   "cell_type": "code",
   "execution_count": 115,
   "metadata": {},
   "outputs": [],
   "source": [
    "mu, sig = 50, 6.5"
   ]
  },
  {
   "cell_type": "markdown",
   "metadata": {},
   "source": [
    "a) Probabilidad de tener una puntuación menor a 23 puntos\n",
    "\n",
    "$P(x < 23) = P(x = \\frac{23-50}{6.5}) = P(Z = -4.1538)$\n",
    "\n",
    "Para ese valor de Z ya podriamos determinar que que la probabilidad es 0\n"
   ]
  },
  {
   "cell_type": "code",
   "execution_count": 120,
   "metadata": {},
   "outputs": [
    {
     "data": {
      "text/plain": [
       "True"
      ]
     },
     "execution_count": 120,
     "metadata": {},
     "output_type": "execute_result"
    }
   ],
   "source": [
    "x_23 = norm.cdf(23,loc=mu, scale=sig)\n",
    "round(x_23, 4) == 0"
   ]
  },
  {
   "cell_type": "markdown",
   "metadata": {},
   "source": [
    "b) Probabilidad de tener entre 27.3 y 43.1 puntos"
   ]
  },
  {
   "cell_type": "markdown",
   "metadata": {},
   "source": [
    "$P(27.3 \\leq x <= 43.1) = P(x \\leq 43.1) - P(x \\geq 27.3)= P(Z = \\frac{43.1-50}{6.5}) - P(Z = \\frac{27.3-50}{6.5}) = P(Z = 1.0615) - P(Z = -3.4923) = 0.1446 - 0 = 0.1446$"
   ]
  },
  {
   "cell_type": "code",
   "execution_count": 151,
   "metadata": {},
   "outputs": [
    {
     "data": {
      "text/plain": [
       "True"
      ]
     },
     "execution_count": 151,
     "metadata": {},
     "output_type": "execute_result"
    }
   ],
   "source": [
    "x_43_1 = norm.cdf(43.1,loc=mu, scale=sig)\n",
    "x_27_3 = norm.cdf(27.3, loc=mu, scale=sig)\n",
    "round(x_43_1 - x_27_3, 2) == 0.14"
   ]
  },
  {
   "cell_type": "markdown",
   "metadata": {},
   "source": [
    "c) Probabilidad de tener más de 62 puntos\n",
    "$P(x > 62) = 1 - P(x < 62) = 1 - P(Z = \\frac{62-50}{6.5}) = 1 - P(Z=1.84) =  1 - 0.9671 = 0.032$ "
   ]
  },
  {
   "cell_type": "code",
   "execution_count": 163,
   "metadata": {},
   "outputs": [
    {
     "data": {
      "text/plain": [
       "True"
      ]
     },
     "execution_count": 163,
     "metadata": {},
     "output_type": "execute_result"
    }
   ],
   "source": [
    "x_27_3 = norm.cdf(62, loc=mu, scale=sig)\n",
    "round(1 - x_27_3, 3) == 0.032"
   ]
  }
 ],
 "metadata": {
  "kernelspec": {
   "display_name": "Python 3",
   "language": "python",
   "name": "python3"
  },
  "language_info": {
   "codemirror_mode": {
    "name": "ipython",
    "version": 3
   },
   "file_extension": ".py",
   "mimetype": "text/x-python",
   "name": "python",
   "nbconvert_exporter": "python",
   "pygments_lexer": "ipython3",
   "version": "3.7.7"
  }
 },
 "nbformat": 4,
 "nbformat_minor": 4
}
