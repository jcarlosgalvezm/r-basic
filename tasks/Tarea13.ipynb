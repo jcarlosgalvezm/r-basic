{
 "cells": [
  {
   "cell_type": "code",
   "execution_count": 115,
   "metadata": {},
   "outputs": [
    {
     "name": "stdout",
     "output_type": "stream",
     "text": [
      "<class 'pandas.core.frame.DataFrame'>\n",
      "RangeIndex: 173 entries, 0 to 172\n",
      "Data columns (total 6 columns):\n",
      " #   Column  Non-Null Count  Dtype  \n",
      "---  ------  --------------  -----  \n",
      " 0   input   173 non-null    int64  \n",
      " 1   color   173 non-null    int64  \n",
      " 2   spine   173 non-null    int64  \n",
      " 3   width   173 non-null    float64\n",
      " 4   satell  173 non-null    int64  \n",
      " 5   weight  173 non-null    int64  \n",
      "dtypes: float64(1), int64(5)\n",
      "memory usage: 8.2 KB\n"
     ]
    }
   ],
   "source": [
    "import pandas as pd\n",
    "import numpy as np\n",
    "from decimal import Decimal\n",
    "import math\n",
    "\n",
    "crabs = pd.read_table('../data/datacrab.txt', delimiter=' ')\n",
    "crabs.info()\n",
    "cw = crabs['width']\n",
    "\n",
    "def custom_round(x, digits=1):\n",
    "    decimal_digits = abs(Decimal(x).as_tuple().exponent)\n",
    "    return math.ceil(x*10**digits)*10**-digits if decimal_digits > digits else x + 10**-digits \n",
    "\n",
    "def binsplit(data, rule, digits=1):\n",
    "    k = rule(data)\n",
    "    A = custom_round((max(data)-min(data))/k, digits)\n",
    "    L1 = min(data)-1/2*10**-digits\n",
    "    return L1 + A * np.arange(0, k+1)\n",
    "\n",
    "def get_class_marks(data):\n",
    "    return (data[0:len(data)-1]+data[1:len(data)])/2\n",
    "\n",
    "    \n",
    "class Binrule:\n",
    "    \n",
    "    @staticmethod\n",
    "    def sqrt(x):\n",
    "        n = len(x)\n",
    "        return math.ceil(math.sqrt(n))\n",
    "    \n",
    "    @staticmethod\n",
    "    def sturges(x):\n",
    "        n = len(x)\n",
    "        return math.ceil(1+math.log2(n))\n",
    "    \n",
    "    @staticmethod\n",
    "    def scott(x):\n",
    "        n = len(x)\n",
    "        As = 3.5*x.std()*n**(-1/3)\n",
    "        return math.ceil((max(x)-min(x))/As)\n",
    "    \n",
    "    @staticmethod\n",
    "    def fd(x):\n",
    "        n = len(x)\n",
    "        Afd = 2*(x.quantile(0.75)-x.quantile(0.25))*n**(-1/3)\n",
    "        return math.ceil((max(x)-min(x))/Afd)\n",
    "                 \n",
    "\n",
    "#Scott\n",
    "l_by_scott = binsplit(cw, Binrule.scott)\n",
    "class_marks_by_scott = get_class_marks(l_by_scott)\n",
    "\n",
    "#FD\n",
    "l_by_fd = binsplit(cw, Binrule.fd)\n",
    "class_marks_by_fd = get_class_marks(l_by_fd)\n",
    "\n",
    "#Sturges\n",
    "l_by_sturges = binsplit(cw, Binrule.sturges)\n",
    "class_marks_by_sturges = get_class_marks(l_by_sturges)\n",
    "\n",
    "#sqrt\n",
    "l_by_sqrt = binsplit(cw, Binrule.sqrt)\n",
    "class_marks_by_sqrt = get_class_marks(l_by_sqrt)"
   ]
  }
 ],
 "metadata": {
  "kernelspec": {
   "display_name": "Python 3",
   "language": "python",
   "name": "python3"
  },
  "language_info": {
   "codemirror_mode": {
    "name": "ipython",
    "version": 3
   },
   "file_extension": ".py",
   "mimetype": "text/x-python",
   "name": "python",
   "nbconvert_exporter": "python",
   "pygments_lexer": "ipython3",
   "version": "3.7.7"
  }
 },
 "nbformat": 4,
 "nbformat_minor": 4
}
